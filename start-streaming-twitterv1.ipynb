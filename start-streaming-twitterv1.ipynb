{
 "cells": [
  {
   "cell_type": "code",
   "execution_count": 7,
   "id": "d3f6d6c8",
   "metadata": {},
   "outputs": [
    {
     "name": "stdout",
     "output_type": "stream",
     "text": [
      "Requirement already satisfied: tweepy in /home/ec2-user/anaconda3/envs/python3/lib/python3.6/site-packages (3.10.0)\n",
      "Collecting tweepy\n",
      "  Using cached tweepy-4.6.0-py2.py3-none-any.whl (69 kB)\n",
      "Requirement already satisfied: pip in /home/ec2-user/anaconda3/envs/python3/lib/python3.6/site-packages (21.3.1)\n",
      "Requirement already satisfied: requests<3,>=2.27.0 in /home/ec2-user/anaconda3/envs/python3/lib/python3.6/site-packages (from tweepy) (2.27.1)\n",
      "Requirement already satisfied: requests-oauthlib<2,>=1.2.0 in /home/ec2-user/anaconda3/envs/python3/lib/python3.6/site-packages (from tweepy) (1.3.1)\n",
      "Requirement already satisfied: oauthlib<4,>=3.2.0 in /home/ec2-user/anaconda3/envs/python3/lib/python3.6/site-packages (from tweepy) (3.2.0)\n",
      "Requirement already satisfied: urllib3<1.27,>=1.21.1 in /home/ec2-user/anaconda3/envs/python3/lib/python3.6/site-packages (from requests<3,>=2.27.0->tweepy) (1.26.8)\n",
      "Requirement already satisfied: idna<4,>=2.5 in /home/ec2-user/anaconda3/envs/python3/lib/python3.6/site-packages (from requests<3,>=2.27.0->tweepy) (3.1)\n",
      "Requirement already satisfied: charset-normalizer~=2.0.0 in /home/ec2-user/anaconda3/envs/python3/lib/python3.6/site-packages (from requests<3,>=2.27.0->tweepy) (2.0.9)\n",
      "Requirement already satisfied: certifi>=2017.4.17 in /home/ec2-user/anaconda3/envs/python3/lib/python3.6/site-packages (from requests<3,>=2.27.0->tweepy) (2021.5.30)\n",
      "Installing collected packages: tweepy\n",
      "  Attempting uninstall: tweepy\n",
      "    Found existing installation: tweepy 3.10.0\n",
      "    Uninstalling tweepy-3.10.0:\n",
      "      Successfully uninstalled tweepy-3.10.0\n",
      "Successfully installed tweepy-4.6.0\n"
     ]
    }
   ],
   "source": [
    "!pip install tweepy --upgrade pip"
   ]
  },
  {
   "cell_type": "code",
   "execution_count": 8,
   "id": "bcf0bd3c",
   "metadata": {},
   "outputs": [],
   "source": [
    "import tweepy"
   ]
  },
  {
   "cell_type": "code",
   "execution_count": 16,
   "id": "0dd34617",
   "metadata": {},
   "outputs": [
    {
     "data": {
      "text/plain": [
       "['( \"empoderamiento\") OR (\" igualdad de genero\") OR (\" machismo\") OR (\" discriminación\") OR (\" acoso\") OR (\" violencia de genero\") OR (\" derechos reproductivos\") OR (\" feminicidio\") )  @CaracolTV\"',\n",
       " '( \"ética\" OR (\" transparencia\") ) \"@CaracolTV\"']"
      ]
     },
     "execution_count": 16,
     "metadata": {},
     "output_type": "execute_result"
    }
   ],
   "source": [
    "lista = ['( \"empoderamiento\") OR (\" igualdad de genero\") OR (\" machismo\") OR (\" discriminación\") OR (\" acoso\") OR (\" violencia de genero\") OR (\" derechos reproductivos\") OR (\" feminicidio\") )  @CaracolTV\"','( \"ética\" OR (\" transparencia\") ) \"@CaracolTV\"']\n",
    "lista"
   ]
  },
  {
   "cell_type": "code",
   "execution_count": null,
   "id": "c33cf839",
   "metadata": {},
   "outputs": [],
   "source": [
    "class IDPrinter(tweepy.Stream):\n",
    "\n",
    "    def on_status(self, status):\n",
    "        print('iniciando')\n",
    "        print(status._json)\n",
    "        \n",
    "\n",
    "printer = IDPrinter(\n",
    "    consumer_key = \"your-key\",\n",
    "    consumer_secret = \"your-secret\",\n",
    "    access_token = \"your-token\",\n",
    "    access_token_secret = \"<your_bearer_token>\"\n",
    ")\n",
    "printer.filter(track=['piano'])\n"
   ]
  },
  {
   "cell_type": "code",
   "execution_count": null,
   "id": "9bd332d1",
   "metadata": {},
   "outputs": [],
   "source": [
    "thread = printer.filter(follow=[1448435899210084359], threaded=True)\n"
   ]
  },
  {
   "cell_type": "code",
   "execution_count": null,
   "id": "b8beadb8",
   "metadata": {},
   "outputs": [],
   "source": [
    "print(thread)"
   ]
  },
  {
   "cell_type": "code",
   "execution_count": null,
   "id": "a0fa2b30",
   "metadata": {},
   "outputs": [],
   "source": []
  }
 ],
 "metadata": {
  "kernelspec": {
   "display_name": "conda_python3",
   "language": "python",
   "name": "conda_python3"
  },
  "language_info": {
   "codemirror_mode": {
    "name": "ipython",
    "version": 3
   },
   "file_extension": ".py",
   "mimetype": "text/x-python",
   "name": "python",
   "nbconvert_exporter": "python",
   "pygments_lexer": "ipython3",
   "version": "3.6.13"
  }
 },
 "nbformat": 4,
 "nbformat_minor": 5
}
